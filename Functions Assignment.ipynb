{
 "cells": [
  {
   "cell_type": "markdown",
   "id": "94a5f646-e9d8-455d-9f23-bb0fec054776",
   "metadata": {},
   "source": [
    "Q1. Which keyword is used to create a function? Create a function to return a list of odd numbers in the range of 1 to 25."
   ]
  },
  {
   "cell_type": "markdown",
   "id": "d46f136d-ce04-4463-9927-4079e24128f3",
   "metadata": {},
   "source": [
    "\"Def\" is the keyword used to create a function."
   ]
  },
  {
   "cell_type": "code",
   "execution_count": 12,
   "id": "c8261df6-f484-4755-84f9-13f0cae6029e",
   "metadata": {},
   "outputs": [],
   "source": [
    "def odd():\n",
    "    for i in range(1,25):\n",
    "        if i%2==1:\n",
    "            print(i, end=\" \")"
   ]
  },
  {
   "cell_type": "code",
   "execution_count": 13,
   "id": "70c9df69-3f41-4849-a7e0-043bbc9f7b58",
   "metadata": {},
   "outputs": [
    {
     "name": "stdout",
     "output_type": "stream",
     "text": [
      "1 3 5 7 9 11 13 15 17 19 21 23 "
     ]
    }
   ],
   "source": [
    "odd()"
   ]
  },
  {
   "cell_type": "markdown",
   "id": "f81fe867-c68b-4ed3-815e-a889b9232c93",
   "metadata": {},
   "source": [
    "Q2. Why *args and **kwargs is used in some functions? Create a function each for *args and **kwargs to demonstrate their use.\n"
   ]
  },
  {
   "cell_type": "markdown",
   "id": "c5a4d42c-24fb-40e2-b522-68e86256a36b",
   "metadata": {},
   "source": [
    " *args and **kwargs are used as arguments in some functions when the number of arguments are not defined or unknown. if we don't use * or ** and if actual arguments are more than the defined arguments, the function will throw an error. With static and double static we can overcome this issue.\n",
    " *args is used for all types except Key Value pairs\n",
    " **kwargs is used specifically for Key-Value pairs."
   ]
  },
  {
   "cell_type": "code",
   "execution_count": 9,
   "id": "4114f6a6-d10b-4fee-8d20-5e027fb8e848",
   "metadata": {},
   "outputs": [],
   "source": [
    "def demo(*args, **kwargs):\n",
    "    return args, kwargs"
   ]
  },
  {
   "cell_type": "code",
   "execution_count": 10,
   "id": "382326e5-2ac9-43b4-a4be-d6d369c1cce2",
   "metadata": {},
   "outputs": [
    {
     "data": {
      "text/plain": [
       "((1, 2, 3, 4, 6, 8), {'a': 10, 'b': 20})"
      ]
     },
     "execution_count": 10,
     "metadata": {},
     "output_type": "execute_result"
    }
   ],
   "source": [
    "demo(1,2,3,4,6,8,a=10,b=20)"
   ]
  },
  {
   "cell_type": "markdown",
   "id": "8f5936c9-b3cf-42e2-9106-0267cbfe1372",
   "metadata": {},
   "source": [
    "Q3. What is an iterator in python? Name the method used to initialise the iterator object and the method used for iteration. Use these methods to print the first five elements of the given list [2, 4, 6, 8, 10, 12, 14, 16,18, 20].\n"
   ]
  },
  {
   "cell_type": "markdown",
   "id": "736b9c6d-e604-4fd4-8754-1e7c1f3185ea",
   "metadata": {},
   "source": [
    "Iterator in Python is an object that is used to iterate over iterable objects like lists, tuples, dicts, and sets. The iterator object is initialized using the iter() method. It uses the next() method for iteration."
   ]
  },
  {
   "cell_type": "code",
   "execution_count": 16,
   "id": "1edebdb8-51b6-4834-9df8-ad67acebfb7c",
   "metadata": {},
   "outputs": [
    {
     "name": "stdout",
     "output_type": "stream",
     "text": [
      "2\n",
      "4\n",
      "6\n",
      "8\n",
      "10\n"
     ]
    }
   ],
   "source": [
    "list = [2, 4, 6, 8, 10, 12, 14, 16,18, 20]\n",
    "value = iter(list)\n",
    "for i in range(0,5):\n",
    "    val_i=next(value)\n",
    "    print(val_i)"
   ]
  },
  {
   "cell_type": "markdown",
   "id": "66261942-add3-4819-8ea8-8e3fb00c4833",
   "metadata": {},
   "source": [
    "Q4. What is a generator function in python? Why yield keyword is used? Give an example of a generator function."
   ]
  },
  {
   "cell_type": "markdown",
   "id": "956fba53-54b1-4247-b7a2-65aacd641392",
   "metadata": {},
   "source": [
    "In Python, a generator function is a special type of function that can be used to create iterators. Generator functions use the yield keyword to return a value, rather than the return keyword. If the body of a def contains yield, the function automatically becomes a generator function. \n",
    "Yield keyword is used to create a generator function. A type of function that is memory efficient and can be used like an iterator object.\n",
    "One advantage of using a generator function is that it allows you to generate large sequences of data without having to store them all in memory at once. This can be especially useful when working with large datasets or in situations where memory is limited."
   ]
  },
  {
   "cell_type": "code",
   "execution_count": 17,
   "id": "593cc077-9bab-4277-8420-dcd4fc7b7a48",
   "metadata": {},
   "outputs": [],
   "source": [
    "def number(n):\n",
    "    i = 0\n",
    "    while i < n:\n",
    "        yield i\n",
    "        i += 1"
   ]
  },
  {
   "cell_type": "code",
   "execution_count": 19,
   "id": "9e7c06a8-9c8f-4a1e-8476-64ad4152e26f",
   "metadata": {},
   "outputs": [
    {
     "name": "stdout",
     "output_type": "stream",
     "text": [
      "0\n",
      "1\n",
      "2\n",
      "3\n",
      "4\n"
     ]
    }
   ],
   "source": [
    "val = number(5)\n",
    "print(next(val))\n",
    "print(next(val))\n",
    "print(next(val))\n",
    "print(next(val))\n",
    "print(next(val))\n"
   ]
  },
  {
   "cell_type": "markdown",
   "id": "620cb14d-52bd-49a3-bee8-b7d73e083204",
   "metadata": {},
   "source": [
    "Q5. Create a generator function for prime numbers less than 1000. Use the next() method to print the first 20 prime numbers."
   ]
  },
  {
   "cell_type": "code",
   "execution_count": 34,
   "id": "ac9b3c5e-cbd4-479d-a439-2dcde3f0abac",
   "metadata": {},
   "outputs": [],
   "source": [
    "def prime(n):\n",
    "    result = []\n",
    "    for i in range(2,n):\n",
    "        for j in range(i-1,0,-1):\n",
    "            if j==1:\n",
    "                result.append(i)\n",
    "            if(i%j==0):\n",
    "                break\n",
    "    return result"
   ]
  },
  {
   "cell_type": "code",
   "execution_count": 35,
   "id": "132b2d49-d772-45ec-9c9d-6ae0b4e352a1",
   "metadata": {},
   "outputs": [
    {
     "name": "stdout",
     "output_type": "stream",
     "text": [
      "2 3 5 7 11 13 17 19 23 29 31 37 41 43 47 53 59 61 67 71 "
     ]
    }
   ],
   "source": [
    "list = prime(1000)\n",
    "value = iter(list)\n",
    "for i in range(0,20):\n",
    "    val=next(value)\n",
    "    print(val, end=\" \")"
   ]
  },
  {
   "cell_type": "code",
   "execution_count": null,
   "id": "b6df0411-3b04-4704-83d8-7ea8000c7946",
   "metadata": {},
   "outputs": [],
   "source": []
  }
 ],
 "metadata": {
  "kernelspec": {
   "display_name": "Python 3 (ipykernel)",
   "language": "python",
   "name": "python3"
  },
  "language_info": {
   "codemirror_mode": {
    "name": "ipython",
    "version": 3
   },
   "file_extension": ".py",
   "mimetype": "text/x-python",
   "name": "python",
   "nbconvert_exporter": "python",
   "pygments_lexer": "ipython3",
   "version": "3.9.13"
  }
 },
 "nbformat": 4,
 "nbformat_minor": 5
}
